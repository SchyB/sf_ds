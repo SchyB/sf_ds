{
 "cells": [
  {
   "cell_type": "code",
   "execution_count": null,
   "metadata": {},
   "outputs": [],
   "source": [
    "import pandas as pd"
   ]
  },
  {
   "cell_type": "code",
   "execution_count": null,
   "metadata": {},
   "outputs": [],
   "source": [
    "ratings_df = pd.read_csv('data/ratings_movies.csv')\n",
    "display(ratings_df.head(5))"
   ]
  },
  {
   "cell_type": "code",
   "execution_count": null,
   "metadata": {},
   "outputs": [],
   "source": [
    "display(ratings_df.info())"
   ]
  },
  {
   "cell_type": "code",
   "execution_count": null,
   "metadata": {},
   "outputs": [],
   "source": [
    "import re"
   ]
  },
  {
   "cell_type": "code",
   "execution_count": null,
   "metadata": {},
   "outputs": [],
   "source": [
    "def get_year_release(arg):\n",
    "    #находим все слова по шаблону \"(DDDD)\"\n",
    "    candidates = re.findall(r'\\(\\d{4}\\)', arg) \n",
    "    # проверяем число вхождений\n",
    "    if len(candidates) > 0:\n",
    "        #если число вхождений больше 0,\n",
    "\t#очищаем строку от знаков \"(\" и \")\"\n",
    "        year = candidates[0].replace('(', '')\n",
    "        year = year.replace(')', '')\n",
    "        return int(year)\n",
    "    else:\n",
    "        #если год не указан, возвращаем None\n",
    "        return None"
   ]
  },
  {
   "cell_type": "code",
   "execution_count": null,
   "metadata": {},
   "outputs": [],
   "source": [
    "ratings_df['year_release'] = ratings_df['title'].apply(get_year_release)\n",
    "display(ratings_df['year_release'])\n",
    "#joined['year_release'] = joined['title'].apply(get_year_release)\n",
    "#joined.info()"
   ]
  },
  {
   "cell_type": "code",
   "execution_count": null,
   "metadata": {},
   "outputs": [],
   "source": [
    "#mask = joined['year_release'] == 1999\n",
    "#joined[mask].groupby('title')['rating'].mean().sort_values()"
   ]
  },
  {
   "cell_type": "code",
   "execution_count": null,
   "metadata": {},
   "outputs": [],
   "source": [
    "rate_fltr = ratings_df[(ratings_df['year_release'] == 2010.0)].copy()"
   ]
  },
  {
   "cell_type": "code",
   "execution_count": null,
   "metadata": {},
   "outputs": [],
   "source": [
    "rate_fltr.groupby('title')['rating'].mean().sort_values(ascending=True)"
   ]
  },
  {
   "cell_type": "code",
   "execution_count": null,
   "metadata": {},
   "outputs": [],
   "source": [
    "rate_fltr.groupby(['genres', 'year_release'])['rating'].mean().sort_values(ascending=True)\n",
    "#mask = joined['year_release'] == 2010\n",
    "#joined[mask].groupby('genres')['rating'].mean().sort_values()"
   ]
  },
  {
   "cell_type": "code",
   "execution_count": null,
   "metadata": {},
   "outputs": [],
   "source": [
    "ratings_df.groupby('userId')['genres'].agg(\n",
    "    \t\t['nunique']\n",
    ").sort_values(by='nunique')\n",
    "#joined.groupby('userId')['genres'].nunique().sort_values(ascending=False)"
   ]
  },
  {
   "cell_type": "code",
   "execution_count": null,
   "metadata": {},
   "outputs": [],
   "source": [
    "ratings_df.groupby('userId')['rating'].agg(\n",
    "    ['count', 'mean']\n",
    ").sort_values(by='count', ascending=False)\n",
    "#joined.groupby('userId')['rating'].agg(\n",
    "    #['count', 'mean']\n",
    "#).sort_values(['count', 'mean'], ascending=[True, False])"
   ]
  },
  {
   "cell_type": "code",
   "execution_count": null,
   "metadata": {},
   "outputs": [],
   "source": [
    "mask1 = ratings_df['year_release'] == 2018.0\n",
    "mask2 = ratings_df['rating'].count() > 10\n",
    "ratings_df[mask1 & mask2].groupby('genres')['rating'].agg(\n",
    "    ['count', 'mean']\n",
    ").sort_values(by='count', ascending=False)\n",
    "#mask = joined['year_release'] == 2018\n",
    "#grouped = joined[mask].groupby('genres')['rating'].agg(\n",
    "    #['mean', 'count']\n",
    "#)\n",
    "#grouped[grouped['count']>10].sort_values(\n",
    "    #by='mean',\n",
    "    #ascending=False\n",
    "#)"
   ]
  },
  {
   "cell_type": "code",
   "execution_count": null,
   "metadata": {},
   "outputs": [],
   "source": [
    "ratings_df['date'] = pd.to_datetime(ratings_df['date'])"
   ]
  },
  {
   "cell_type": "code",
   "execution_count": null,
   "metadata": {},
   "outputs": [],
   "source": [
    "ratings_df['year_rating'] = ratings_df['date'].dt.year\n",
    "#joined['date'] = pd.to_datetime(joined['date'])\n",
    "#joined['year_rating'] = joined['date'].dt.year\n",
    "#pivot = joined.pivot_table(\n",
    "    #index='year_rating',\n",
    "    #columns='genres',\n",
    "    #values='rating',\n",
    "    #aggfunc='mean'\n",
    "#)\n",
    "#display(pivot)"
   ]
  },
  {
   "cell_type": "code",
   "execution_count": null,
   "metadata": {},
   "outputs": [],
   "source": [
    "pivot = ratings_df.pivot_table(\n",
    "    values='rating',\n",
    "    index='genres',\n",
    "    columns='year_rating'\n",
    ")"
   ]
  },
  {
   "cell_type": "code",
   "execution_count": null,
   "metadata": {},
   "outputs": [],
   "source": [
    "pivot_sort = pivot.sort_values(by=[2018], ascending=False)\n",
    "pivot_sort.head(20)"
   ]
  },
  {
   "cell_type": "code",
   "execution_count": null,
   "metadata": {},
   "outputs": [],
   "source": [
    "pivot.query('genres == [\"Comedy\"]') "
   ]
  },
  {
   "cell_type": "code",
   "execution_count": null,
   "metadata": {},
   "outputs": [],
   "source": [
    "orders_df = pd.read_csv('data/orders.csv', sep=';')\n",
    "display(orders_df.head(5))\n",
    "display(orders_df.tail(5))"
   ]
  },
  {
   "cell_type": "code",
   "execution_count": null,
   "metadata": {},
   "outputs": [],
   "source": [
    "orders_df.info()"
   ]
  },
  {
   "cell_type": "code",
   "execution_count": null,
   "metadata": {},
   "outputs": [],
   "source": [
    "products_df.info()"
   ]
  },
  {
   "cell_type": "code",
   "execution_count": null,
   "metadata": {},
   "outputs": [],
   "source": [
    "products_df = pd.read_csv('data/products.csv', sep=';')\n",
    "display(products_df.head(5))\n",
    "display(products_df.tail(5))"
   ]
  },
  {
   "cell_type": "code",
   "execution_count": null,
   "metadata": {},
   "outputs": [],
   "source": [
    "orders_products = orders_df.merge(\n",
    "    products_df,\n",
    "    left_on='ID товара',\n",
    "    right_on='Product_ID',\n",
    "    how='left'\n",
    ")\n",
    "display(orders_products)\n",
    "#orders_products = orders_df.merge(\n",
    "    #product_df, \n",
    "    #left_on='ID товара',\n",
    "    #right_on='Product_ID',\n",
    "    #how='left')\n",
    "#orders_products[orders_products['Name'].isna()]"
   ]
  },
  {
   "cell_type": "code",
   "execution_count": null,
   "metadata": {},
   "outputs": [],
   "source": [
    "filtr_order = orders_products[(orders_products['Статус'] == 'Оплачен, формируется к отправке') | (orders_products['Статус'] == 'Выполнен')].copy()"
   ]
  },
  {
   "cell_type": "code",
   "execution_count": null,
   "metadata": {},
   "outputs": [],
   "source": [
    "filtr_order['amount'] = filtr_order['Price'] * filtr_order['Количество']"
   ]
  },
  {
   "cell_type": "code",
   "execution_count": null,
   "metadata": {},
   "outputs": [],
   "source": [
    "filtr_order.groupby('ID Покупателя')['amount'].max()"
   ]
  },
  {
   "cell_type": "code",
   "execution_count": null,
   "metadata": {},
   "outputs": [],
   "source": [
    "#orders_products['Profit'] = orders_products['Price'] * orders_products['Количество'] \n",
    "#orders_products[orders_products['Оплачен'] == 'Да'].groupby('ID Покупателя')['Profit'].sum().sort_values(ascending=False)"
   ]
  }
 ],
 "metadata": {
  "kernelspec": {
   "display_name": "Python 3",
   "language": "python",
   "name": "python3"
  },
  "language_info": {
   "codemirror_mode": {
    "name": "ipython",
    "version": 3
   },
   "file_extension": ".py",
   "mimetype": "text/x-python",
   "name": "python",
   "nbconvert_exporter": "python",
   "pygments_lexer": "ipython3",
   "version": "3.10.7"
  },
  "orig_nbformat": 4
 },
 "nbformat": 4,
 "nbformat_minor": 2
}
